{
 "cells": [
  {
   "cell_type": "code",
   "execution_count": 1,
   "metadata": {},
   "outputs": [],
   "source": [
    "import os\n",
    "\n",
    "from datetime import datetime\n",
    "import numpy as np\n",
    "import matplotlib.pyplot as plt\n",
    "\n",
    "import torch\n",
    "import torch.nn as nn\n",
    "from torchvision.ops.misc import Permute\n",
    "\n",
    "from models.pointnet import PointNet, TNet\n",
    "\n",
    "from torchinfo import summary\n"
   ]
  },
  {
   "cell_type": "code",
   "execution_count": 6,
   "metadata": {},
   "outputs": [
    {
     "name": "stdout",
     "output_type": "stream",
     "text": [
      "torch.Size([2, 10, 3])\n",
      "torch.Size([2, 3, 10])\n",
      "tensor([[[ 2.1408e-01, -6.6273e-01,  2.4546e-01, -2.1540e+00,  1.9754e-01,\n",
      "          -2.0755e-01, -9.8959e-01, -9.6247e-02,  4.6395e-01, -7.6669e-01],\n",
      "         [-1.3266e+00,  4.5925e-01,  1.4656e+00, -3.9006e-01, -8.3575e-02,\n",
      "          -4.2880e-01, -4.9376e-01, -7.6792e-01, -3.4462e-01,  1.3008e+00],\n",
      "         [-1.2457e+00, -1.6630e+00,  4.0586e-01,  2.8485e-01,  1.4731e-01,\n",
      "           9.5949e-01, -3.6133e-01,  4.1617e-01,  8.7363e-01, -1.0907e+00]],\n",
      "\n",
      "        [[ 6.7308e-01,  5.4157e-01, -1.1978e+00, -3.1267e-01, -2.4502e-02,\n",
      "          -2.4032e+00,  1.8253e-01,  4.8771e-01,  5.9623e-01, -8.6168e-01],\n",
      "         [ 3.1167e+00, -8.1196e-01,  9.8548e-01, -7.1938e-01,  1.5974e-01,\n",
      "          -6.6770e-01,  1.3819e+00, -4.1890e-01, -1.1414e+00, -4.0285e-01],\n",
      "         [-3.8531e-01,  4.2352e-02,  1.9446e-03,  2.3388e-01, -5.1424e-01,\n",
      "          -1.1424e+00,  1.2617e+00,  3.5876e-01, -5.1994e-01,  1.2072e+00]]])\n",
      "torch.Size([2, 10, 3])\n",
      "tensor([[[ 2.1408e-01, -6.6273e-01,  2.4546e-01, -2.1540e+00,  1.9754e-01,\n",
      "          -2.0755e-01, -9.8959e-01, -9.6247e-02,  4.6395e-01, -7.6669e-01],\n",
      "         [-1.3266e+00,  4.5925e-01,  1.4656e+00, -3.9006e-01, -8.3575e-02,\n",
      "          -4.2880e-01, -4.9376e-01, -7.6792e-01, -3.4462e-01,  1.3008e+00],\n",
      "         [-1.2457e+00, -1.6630e+00,  4.0586e-01,  2.8485e-01,  1.4731e-01,\n",
      "           9.5949e-01, -3.6133e-01,  4.1617e-01,  8.7363e-01, -1.0907e+00]],\n",
      "\n",
      "        [[ 6.7308e-01,  5.4157e-01, -1.1978e+00, -3.1267e-01, -2.4502e-02,\n",
      "          -2.4032e+00,  1.8253e-01,  4.8771e-01,  5.9623e-01, -8.6168e-01],\n",
      "         [ 3.1167e+00, -8.1196e-01,  9.8548e-01, -7.1938e-01,  1.5974e-01,\n",
      "          -6.6770e-01,  1.3819e+00, -4.1890e-01, -1.1414e+00, -4.0285e-01],\n",
      "         [-3.8531e-01,  4.2352e-02,  1.9446e-03,  2.3388e-01, -5.1424e-01,\n",
      "          -1.1424e+00,  1.2617e+00,  3.5876e-01, -5.1994e-01,  1.2072e+00]]])\n",
      "torch.Size([2, 3, 10])\n",
      "torch.Size([2, 3, 10])\n"
     ]
    }
   ],
   "source": [
    "SHAPE = 10, 3\n",
    "B = 2\n",
    "\n",
    "tnet = TNet()\n",
    "net = PointNet()\n",
    "\n",
    "x = torch.randn((B, *SHAPE))\n",
    "\n",
    "permute = Permute([0, 2, 1])\n",
    "\n",
    "print(x.shape)\n",
    "x = permute(x)\n",
    "print(x.shape)\n",
    "print(x)\n",
    "x = permute(x)\n",
    "\n",
    "print(x.shape)\n",
    "x = x.transpose(2, 1)\n",
    "print(x)\n",
    "print(x.shape)\n",
    "\n",
    "# x = net(x)\n",
    "\n",
    "print(x.shape)\n"
   ]
  }
 ],
 "metadata": {
  "kernelspec": {
   "display_name": "Python 3",
   "language": "python",
   "name": "python3"
  },
  "language_info": {
   "codemirror_mode": {
    "name": "ipython",
    "version": 3
   },
   "file_extension": ".py",
   "mimetype": "text/x-python",
   "name": "python",
   "nbconvert_exporter": "python",
   "pygments_lexer": "ipython3",
   "version": "3.9.6"
  }
 },
 "nbformat": 4,
 "nbformat_minor": 2
}
