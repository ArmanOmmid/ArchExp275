{
 "cells": [
  {
   "cell_type": "code",
   "execution_count": 1,
   "metadata": {},
   "outputs": [],
   "source": [
    "import os\n",
    "\n",
    "from datetime import datetime\n",
    "import numpy as np\n",
    "import matplotlib.pyplot as plt\n",
    "\n",
    "import numpy as np\n",
    "import torch\n",
    "import torch.nn as nn\n",
    "\n",
    "from models.pointnet import PointNet, TNet\n",
    "from models.modules import SpecialEuclideanGeodesicLoss\n",
    "\n",
    "from runners.experiment import run_epoch\n",
    "\n",
    "from torchinfo import summary\n",
    "\n",
    "def _R(theta, phi, psi, N):\n",
    "    return (torch.tensor([\n",
    "        [np.cos(theta), -np.sin(theta), 0],\n",
    "        [np.sin(theta), np.cos(theta), 0],\n",
    "        [0, 0, 1]\n",
    "    ]) @ torch.tensor([\n",
    "        [np.cos(phi), 0, np.sin(phi)],\n",
    "        [0, 1, 0],\n",
    "        [-np.sin(phi), 0, np.cos(phi)]\n",
    "    ]) @ torch.tensor([\n",
    "        [1, 0, 0],\n",
    "        [0, np.cos(psi), -np.sin(psi)],\n",
    "        [0, np.sin(psi), np.cos(psi)]\n",
    "    ])).unsqueeze(0).float().repeat(N, 1, 1)\n",
    "\n",
    "def _T(x, y, z, N):\n",
    "    return torch.tensor([[x], [y], [z]]).unsqueeze(0).float().repeat(N, 1, 1)\n",
    "\n",
    "def RT(angles, translations, N):\n",
    "    r = _R(*angles, N)\n",
    "    t = _T(*translations, N)\n",
    "    return torch.cat((r, t), dim=-1)\n"
   ]
  },
  {
   "cell_type": "code",
   "execution_count": 9,
   "metadata": {},
   "outputs": [
    {
     "name": "stdout",
     "output_type": "stream",
     "text": [
      "tensor([[ 0.9900, -0.0894,  0.1088,  0.1000],\n",
      "        [ 0.0993,  0.9910, -0.0894,  0.2000],\n",
      "        [-0.0998,  0.0993,  0.9900,  0.3000]])\n"
     ]
    },
    {
     "data": {
      "text/plain": [
       "tensor([3., 3., 3., 3.])"
      ]
     },
     "execution_count": 9,
     "metadata": {},
     "output_type": "execute_result"
    }
   ],
   "source": [
    "SHAPE = 10, 3\n",
    "B = 2\n",
    "\n",
    "LR = 0.0001\n",
    "WD = 0.0001\n",
    "\n",
    "model = PointNet()\n",
    "criterion = SpecialEuclideanGeodesicLoss()\n",
    "optimizer = torch.optim.Adam(model.parameters(), lr=LR, weight_decay=WD)\n",
    "\n",
    "x = torch.ones((B, *SHAPE))\n",
    "\n",
    "angles = 0.1, 0.1, 0.1\n",
    "translations = 0.1, 0.2, 0.3\n",
    "\n",
    "y = RT(angles, translations, B)\n",
    "\n",
    "print(y[0])\n",
    "\n",
    "b = RT((0, 0, 0), (0, 0, 0), 4)[:, :3, :3]\n",
    "\n",
    "\n",
    "torch.diagonal(b, dim1=1, dim2=2).sum(1)\n",
    "\n",
    "\n",
    "# for _ in range(1000):\n",
    "#     optimizer.zero_grad()\n",
    "#     outputs = model(x)\n",
    "#     loss = criterion(outputs, y)\n",
    "#     loss.backward()\n",
    "#     optimizer.step()\n",
    "\n",
    "# model(x)\n"
   ]
  },
  {
   "cell_type": "code",
   "execution_count": null,
   "metadata": {},
   "outputs": [
    {
     "name": "stdout",
     "output_type": "stream",
     "text": [
      "tensor([[[ 0.9900, -0.0894,  0.1088,  0.1000],\n",
      "         [ 0.0993,  0.9910, -0.0894,  0.2000],\n",
      "         [-0.0998,  0.0993,  0.9900,  0.3000]],\n",
      "\n",
      "        [[ 0.9900, -0.0894,  0.1088,  0.1000],\n",
      "         [ 0.0993,  0.9910, -0.0894,  0.2000],\n",
      "         [-0.0998,  0.0993,  0.9900,  0.3000]]])\n"
     ]
    }
   ],
   "source": [
    "print(y)\n"
   ]
  }
 ],
 "metadata": {
  "kernelspec": {
   "display_name": "Python 3",
   "language": "python",
   "name": "python3"
  },
  "language_info": {
   "codemirror_mode": {
    "name": "ipython",
    "version": 3
   },
   "file_extension": ".py",
   "mimetype": "text/x-python",
   "name": "python",
   "nbconvert_exporter": "python",
   "pygments_lexer": "ipython3",
   "version": "3.9.6"
  }
 },
 "nbformat": 4,
 "nbformat_minor": 2
}
