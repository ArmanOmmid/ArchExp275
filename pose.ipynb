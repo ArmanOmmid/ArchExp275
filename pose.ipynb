{
 "cells": [
  {
   "cell_type": "code",
   "execution_count": 1,
   "metadata": {},
   "outputs": [],
   "source": [
    "import os\n",
    "import numpy as np\n",
    "import matplotlib.pyplot as plt\n",
    "\n",
    "import torch\n",
    "from torch.utils.data import DataLoader\n",
    "\n",
    "from torchinfo import summary\n",
    "from models import XSwinFusion \n",
    "from pose_estimation import PoseDataNPZTorch\n",
    "\n",
    "\n",
    "WORKDIR = f\"{os.getcwd()}/..\"\n",
    "DATA_FOLDER = os.path.join(WORKDIR, \"data_folder\")\n",
    "DATASET_NPZ_PATH = os.path.join(DATA_FOLDER, \"dataset_npz\")\n"
   ]
  },
  {
   "cell_type": "code",
   "execution_count": 2,
   "metadata": {},
   "outputs": [
    {
     "data": {
      "text/plain": [
       "tensor([2, 3, 2, 3, 2, 3, 2, 3])"
      ]
     },
     "execution_count": 2,
     "metadata": {},
     "output_type": "execute_result"
    }
   ],
   "source": [
    "x = torch.tensor([0, 1, 2, 3, 4, 5])\n",
    "\n",
    "x = x[[2,3, 2,3,2 ,3 ,2 ,3]]\n",
    "x\n"
   ]
  },
  {
   "cell_type": "code",
   "execution_count": 3,
   "metadata": {},
   "outputs": [
    {
     "name": "stdout",
     "output_type": "stream",
     "text": [
      "Presumed Preloaded NPZ Dataset: /Users/armanommid/Code/CSE/CSE275/HW2/XSwinDiffusion/../data_folder/dataset_npz\n"
     ]
    }
   ],
   "source": [
    "samples = 10_000\n",
    "resize = (432, 768)\n",
    "aspect_ratio = True\n",
    "margin = 12\n",
    "feature_dims = 64\n",
    "\n",
    "fusion = XSwinFusion(feature_dims=feature_dims, resize=resize)\n",
    "\n",
    "dataset = None\n",
    "dataset = PoseDataNPZTorch(DATASET_NPZ_PATH, samples=samples, \n",
    "                           resize=resize, aspect_ratio=aspect_ratio, margin=margin)\n",
    "dataloader = DataLoader(dataset, batch_size=2, shuffle=True)\n",
    "\n",
    "summary(fusion)\n"
   ]
  },
  {
   "cell_type": "code",
   "execution_count": 4,
   "metadata": {},
   "outputs": [
    {
     "name": "stdout",
     "output_type": "stream",
     "text": [
      "torch.Size([2, 10000, 3]) torch.Size([2, 3, 432, 768]) torch.Size([2, 432, 768])\n",
      "torch.Size([2, 1024, 1])\n",
      "torch.Size([2, 1024, 10000])\n",
      "torch.Size([2, 1088, 10000])\n",
      "A\n",
      "torch.Size([2, 64, 10000]) torch.Size([2, 64, 10000])\n",
      "torch.Size([2, 64, 10000])\n",
      "torch.Size([2, 128, 10000])\n",
      "tensor([ 0.3554,  0.1095,  0.1000,  0.1400, -0.0024,  0.6039,  0.2666,  0.2106,\n",
      "         0.2108,  0.4986,  0.0088,  0.4583,  0.3774,  0.1169,  0.5171,  0.1880,\n",
      "         0.0898,  0.0686,  0.6631,  0.4967,  0.4967,  0.1584,  0.2523,  0.4538,\n",
      "         0.0266,  0.3957,  0.6143,  0.4359,  0.4398,  0.2806,  0.2322,  0.3176,\n",
      "         0.0169,  0.6143,  0.1059,  0.7302,  0.1821,  0.3871,  0.0276,  0.1914,\n",
      "         0.2084,  0.6434,  0.3607,  0.1720,  0.1372,  0.1615,  0.0320,  0.5819,\n",
      "         0.2231,  0.0658,  0.2169,  0.7417,  0.1511,  0.6115,  0.2998,  0.7235,\n",
      "         0.3698,  0.0728,  0.4343,  0.3168,  0.2881,  0.4695,  0.6572,  0.2588],\n",
      "       grad_fn=<SelectBackward0>)\n",
      "tensor([ 0.3554,  0.1095,  0.1000,  0.1400, -0.0024,  0.6039,  0.2666,  0.2106,\n",
      "         0.2108,  0.4986,  0.0088,  0.4583,  0.3774,  0.1169,  0.5171,  0.1880,\n",
      "         0.0898,  0.0686,  0.6631,  0.4967,  0.4967,  0.1584,  0.2523,  0.4538,\n",
      "         0.0266,  0.3957,  0.6143,  0.4359,  0.4398,  0.2806,  0.2322,  0.3176,\n",
      "         0.0169,  0.6143,  0.1059,  0.7302,  0.1821,  0.3871,  0.0276,  0.1914,\n",
      "         0.2084,  0.6434,  0.3607,  0.1720,  0.1372,  0.1615,  0.0320,  0.5819,\n",
      "         0.2231,  0.0658,  0.2169,  0.7417,  0.1511,  0.6115,  0.2998,  0.7235,\n",
      "         0.3698,  0.0728,  0.4343,  0.3168,  0.2881,  0.4695,  0.6572,  0.2588],\n",
      "       grad_fn=<SelectBackward0>)\n",
      "torch.Size([2, 192, 10000])\n"
     ]
    },
    {
     "ename": "ValueError",
     "evalue": "not enough values to unpack (expected 3, got 2)",
     "output_type": "error",
     "traceback": [
      "\u001b[0;31m---------------------------------------------------------------------------\u001b[0m",
      "\u001b[0;31mValueError\u001b[0m                                Traceback (most recent call last)",
      "\u001b[1;32m/Users/armanommid/Code/CSE/CSE275/HW2/XSwinDiffusion/pose.ipynb Cell 4\u001b[0m line \u001b[0;36m7\n\u001b[1;32m      <a href='vscode-notebook-cell:/Users/armanommid/Code/CSE/CSE275/HW2/XSwinDiffusion/pose.ipynb#W4sZmlsZQ%3D%3D?line=2'>3</a>\u001b[0m \u001b[39mfor\u001b[39;00m i, (s, t, c, d, mi, p) \u001b[39min\u001b[39;00m \u001b[39menumerate\u001b[39m(dataloader):\n\u001b[1;32m      <a href='vscode-notebook-cell:/Users/armanommid/Code/CSE/CSE275/HW2/XSwinDiffusion/pose.ipynb#W4sZmlsZQ%3D%3D?line=4'>5</a>\u001b[0m     \u001b[39mprint\u001b[39m(t\u001b[39m.\u001b[39mshape, c\u001b[39m.\u001b[39mshape, d\u001b[39m.\u001b[39mshape)\n\u001b[0;32m----> <a href='vscode-notebook-cell:/Users/armanommid/Code/CSE/CSE275/HW2/XSwinDiffusion/pose.ipynb#W4sZmlsZQ%3D%3D?line=6'>7</a>\u001b[0m     rgb, pcd, transforms \u001b[39m=\u001b[39m fusion(t, c, mi)\n\u001b[1;32m     <a href='vscode-notebook-cell:/Users/armanommid/Code/CSE/CSE275/HW2/XSwinDiffusion/pose.ipynb#W4sZmlsZQ%3D%3D?line=9'>10</a>\u001b[0m     \u001b[39mif\u001b[39;00m i \u001b[39m==\u001b[39m \u001b[39m3\u001b[39m: \n\u001b[1;32m     <a href='vscode-notebook-cell:/Users/armanommid/Code/CSE/CSE275/HW2/XSwinDiffusion/pose.ipynb#W4sZmlsZQ%3D%3D?line=10'>11</a>\u001b[0m         \u001b[39massert\u001b[39;00m \u001b[39m0\u001b[39m\n",
      "\u001b[0;31mValueError\u001b[0m: not enough values to unpack (expected 3, got 2)"
     ]
    }
   ],
   "source": [
    "points = []\n",
    "\n",
    "for i, (s, t, c, d, mi, p) in enumerate(dataloader):\n",
    "\n",
    "    print(t.shape, c.shape, d.shape)\n",
    "\n",
    "    rgb, pcd, transforms = fusion(t, c, mi)\n",
    "\n",
    "\n",
    "    if i == 3: \n",
    "        assert 0\n"
   ]
  }
 ],
 "metadata": {
  "kernelspec": {
   "display_name": "Python 3",
   "language": "python",
   "name": "python3"
  },
  "language_info": {
   "codemirror_mode": {
    "name": "ipython",
    "version": 3
   },
   "file_extension": ".py",
   "mimetype": "text/x-python",
   "name": "python",
   "nbconvert_exporter": "python",
   "pygments_lexer": "ipython3",
   "version": "3.9.6"
  }
 },
 "nbformat": 4,
 "nbformat_minor": 2
}
