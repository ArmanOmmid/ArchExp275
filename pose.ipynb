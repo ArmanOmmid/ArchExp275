{
 "cells": [
  {
   "cell_type": "code",
   "execution_count": 1,
   "metadata": {},
   "outputs": [],
   "source": [
    "import os\n",
    "import numpy as np\n",
    "import matplotlib.pyplot as plt\n",
    "\n",
    "import torch\n",
    "from torch.utils.data import DataLoader\n",
    "\n",
    "from pose_estimation import PoseData, PoseDataNPZ, PoseDataNPZTorch, COLOR_PALETTE\n",
    "\n",
    "WORKDIR = f\"{os.getcwd()}/..\"\n",
    "DATA_FOLDER = os.path.join(WORKDIR, \"data_folder\")\n",
    "DATASET_NPZ_PATH = os.path.join(DATA_FOLDER, \"dataset_npz\")\n"
   ]
  },
  {
   "cell_type": "code",
   "execution_count": 2,
   "metadata": {},
   "outputs": [
    {
     "name": "stdout",
     "output_type": "stream",
     "text": [
      "Presumed Preloaded NPZ Dataset: /Users/armanommid/Code/CSE/CSE275/HW2/XSwinDiffusion/../data_folder/dataset_npz\n"
     ]
    }
   ],
   "source": [
    "dataset = None\n",
    "dataset = PoseDataNPZTorch(DATASET_NPZ_PATH)\n",
    "dataloader = DataLoader(dataset, batch_size=10, shuffle=True)\n"
   ]
  },
  {
   "cell_type": "code",
   "execution_count": 3,
   "metadata": {},
   "outputs": [
    {
     "name": "stdout",
     "output_type": "stream",
     "text": [
      "torch.Size([10, 20000, 3]) torch.Size([10, 20000, 3])\n",
      "0\n",
      "torch.Size([10, 20000, 3]) torch.Size([10, 20000, 3])\n",
      "torch.Size([10, 20000, 3]) torch.Size([10, 20000, 3])\n",
      "torch.Size([10, 20000, 3]) torch.Size([10, 20000, 3])\n",
      "torch.Size([10, 20000, 3]) torch.Size([10, 20000, 3])\n",
      "torch.Size([10, 20000, 3]) torch.Size([10, 20000, 3])\n",
      "torch.Size([10, 20000, 3]) torch.Size([10, 20000, 3])\n",
      "torch.Size([10, 20000, 3]) torch.Size([10, 20000, 3])\n",
      "torch.Size([10, 20000, 3]) torch.Size([10, 20000, 3])\n",
      "torch.Size([10, 20000, 3]) torch.Size([10, 20000, 3])\n",
      "torch.Size([10, 20000, 3]) torch.Size([10, 20000, 3])\n",
      "10\n",
      "torch.Size([10, 20000, 3]) torch.Size([10, 20000, 3])\n",
      "torch.Size([10, 20000, 3]) torch.Size([10, 20000, 3])\n",
      "torch.Size([10, 20000, 3]) torch.Size([10, 20000, 3])\n",
      "torch.Size([10, 20000, 3]) torch.Size([10, 20000, 3])\n",
      "torch.Size([10, 20000, 3]) torch.Size([10, 20000, 3])\n",
      "torch.Size([10, 20000, 3]) torch.Size([10, 20000, 3])\n",
      "torch.Size([10, 20000, 3]) torch.Size([10, 20000, 3])\n"
     ]
    }
   ],
   "source": [
    "points = []\n",
    "\n",
    "for i, (s, t, p) in enumerate(dataloader):\n",
    "    \n",
    "    print(s.shape, t.shape)\n",
    "\n",
    "    if i % 10 == 0:\n",
    "        print(i)\n"
   ]
  }
 ],
 "metadata": {
  "kernelspec": {
   "display_name": "Python 3",
   "language": "python",
   "name": "python3"
  },
  "language_info": {
   "codemirror_mode": {
    "name": "ipython",
    "version": 3
   },
   "file_extension": ".py",
   "mimetype": "text/x-python",
   "name": "python",
   "nbconvert_exporter": "python",
   "pygments_lexer": "ipython3",
   "version": "3.9.6"
  }
 },
 "nbformat": 4,
 "nbformat_minor": 2
}
