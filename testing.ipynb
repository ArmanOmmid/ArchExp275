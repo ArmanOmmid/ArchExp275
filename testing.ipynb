{
 "cells": [
  {
   "cell_type": "code",
   "execution_count": 1,
   "metadata": {},
   "outputs": [],
   "source": [
    "import os\n",
    "\n",
    "from datetime import datetime\n",
    "import numpy as np\n",
    "import matplotlib.pyplot as plt\n",
    "\n",
    "import torch\n",
    "import torch.nn as nn\n",
    "from torch.optim import Adam\n",
    "from torch.utils.data import DataLoader\n",
    "\n",
    "from models.xswin import XNetSwinTransformer\n",
    "from models.modules import SwinResidualCrossAttention\n",
    "\n",
    "from models.modules.swin_residual_cross_attention import _extract_windows, _unfold_padding_prep, _fold_unpadding_prep\n",
    "\n",
    "from torchinfo import summary\n"
   ]
  },
  {
   "cell_type": "code",
   "execution_count": 2,
   "metadata": {},
   "outputs": [
    {
     "data": {
      "text/plain": [
       "[1]"
      ]
     },
     "execution_count": 2,
     "metadata": {},
     "output_type": "execute_result"
    }
   ],
   "source": [
    "*A, B= 1, 2\n",
    "A\n"
   ]
  },
  {
   "cell_type": "code",
   "execution_count": 3,
   "metadata": {},
   "outputs": [
    {
     "name": "stdout",
     "output_type": "stream",
     "text": [
      "torch.Size([1, 8, 8, 5])\n"
     ]
    }
   ],
   "source": [
    "x = torch.tensor([\n",
    "    [1, 1, 1, 1, 2, 2, 2, 2, 3, 3, 3, 3, 4, 4, 4, 4],\n",
    "    [1, 1, 1, 1, 2, 2, 2, 2, 3, 3, 3, 3, 4, 4, 4, 4],\n",
    "    [1, 1, 1, 1, 2, 2, 2, 2, 3, 3, 3, 3, 4, 4, 4, 4],\n",
    "    [1, 1, 1, 1, 2, 2, 2, 2, 3, 3, 3, 3, 4, 4, 4, 4],\n",
    "])\n",
    "\n",
    "x = torch.tensor([\n",
    "    [1, 2, 3, 4, 5],\n",
    "    [1, 2, 3, 4, 5],\n",
    "    [1, 2, 3, 4, 5],\n",
    "    [1, 2, 3, 4, 5],\n",
    "])\n",
    "\n",
    "# print(torch.cat((x, x), dim=-1))\n",
    "\n",
    "\n",
    "# x = torch.vstack((torch.hstack((x, x*2)), torch.hstack((x*3, x*4))))\n",
    "x = torch.stack((x, x*2, x*3, x*4))\n",
    "x = torch.vstack((torch.hstack((x, x*2)), torch.hstack((x*3, x*4))))\n",
    "\n",
    "\n",
    "# x = x.reshape(2, 2, -1)\n",
    "x = x.unsqueeze(0)\n",
    "\n",
    "print(x.shape)\n",
    "\n",
    "x = _extract_windows(x, 4, 4)\n",
    "\n",
    "# print(x.shape)\n"
   ]
  },
  {
   "cell_type": "code",
   "execution_count": 4,
   "metadata": {},
   "outputs": [
    {
     "name": "stdout",
     "output_type": "stream",
     "text": [
      "tensor([], size=(12, 0))\n",
      "torch.Size([5, 10, 22, 16])\n"
     ]
    },
    {
     "data": {
      "text/plain": [
       "torch.Size([5, 10, 22, 16])"
      ]
     },
     "execution_count": 4,
     "metadata": {},
     "output_type": "execute_result"
    }
   ],
   "source": [
    "H_DIM = 16\n",
    "\n",
    "r1 = torch.ones((5, 10, 22, H_DIM))\n",
    "r2 = torch.ones(r1.shape)\n",
    "\n",
    "f1, pinfo = _unfold_padding_prep(r1, 4, 4)\n",
    "print(f1[0, :, :0, 0])\n",
    "f2 = _fold_unpadding_prep(f1, pinfo)\n",
    "print(f2.shape)\n",
    "\n",
    "SRCA = SwinResidualCrossAttention(\n",
    "    [4, 4],\n",
    "    H_DIM,\n",
    "    4,\n",
    ")\n",
    "\n",
    "SRCA(r1, r2).shape\n"
   ]
  },
  {
   "cell_type": "code",
   "execution_count": 5,
   "metadata": {},
   "outputs": [
    {
     "name": "stdout",
     "output_type": "stream",
     "text": [
      "torch.Size([5, 3, 164, 328])\n",
      "torch.Size([5, 164, 328])\n"
     ]
    },
    {
     "name": "stderr",
     "output_type": "stream",
     "text": [
      "/Library/Frameworks/Python.framework/Versions/3.9/lib/python3.9/site-packages/torchinfo/torchinfo.py:477: UserWarning: TypedStorage is deprecated. It will be removed in the future and UntypedStorage will be the only storage class. This should only matter to you if you are using storages directly.  To access UntypedStorage directly, use tensor.untyped_storage() instead of tensor.storage()\n",
      "  action_fn=lambda data: sys.getsizeof(data.storage()),\n",
      "/Library/Frameworks/Python.framework/Versions/3.9/lib/python3.9/site-packages/torch/storage.py:665: UserWarning: TypedStorage is deprecated. It will be removed in the future and UntypedStorage will be the only storage class. This should only matter to you if you are using storages directly.  To access UntypedStorage directly, use tensor.untyped_storage() instead of tensor.storage()\n",
      "  return super().__sizeof__() + self.nbytes()\n"
     ]
    },
    {
     "data": {
      "text/plain": [
       "=========================================================================================================\n",
       "Layer (type:depth-idx)                                  Output Shape              Param #\n",
       "=========================================================================================================\n",
       "XNetSwinTransformer                                     [1, 164, 328]             --\n",
       "├─ConvolutionTripletLayer: 1-1                          [1, 64, 164, 328]         --\n",
       "│    └─Sequential: 2-1                                  [1, 64, 164, 328]         --\n",
       "│    │    └─Conv2d: 3-1                                 [1, 64, 164, 328]         1,792\n",
       "│    │    └─BatchNorm2d: 3-2                            [1, 64, 164, 328]         128\n",
       "│    │    └─LeakyReLU: 3-3                              [1, 64, 164, 328]         --\n",
       "│    │    └─Conv2d: 3-4                                 [1, 64, 164, 328]         36,928\n",
       "│    │    └─BatchNorm2d: 3-5                            [1, 64, 164, 328]         128\n",
       "│    │    └─LeakyReLU: 3-6                              [1, 64, 164, 328]         --\n",
       "│    │    └─Conv2d: 3-7                                 [1, 64, 164, 328]         36,928\n",
       "│    │    └─BatchNorm2d: 3-8                            [1, 64, 164, 328]         128\n",
       "│    │    └─LeakyReLU: 3-9                              [1, 64, 164, 328]         --\n",
       "├─Sequential: 1-2                                       [1, 41, 82, 64]           --\n",
       "│    └─Conv2d: 2-2                                      [1, 64, 41, 82]           65,600\n",
       "│    └─Permute: 2-3                                     [1, 41, 82, 64]           --\n",
       "│    └─LayerNorm: 2-4                                   [1, 41, 82, 64]           128\n",
       "├─ModuleList: 1-3                                       --                        --\n",
       "│    └─Sequential: 2-5                                  [1, 41, 82, 64]           --\n",
       "│    │    └─SwinTransformerBlockV2: 3-10                [1, 41, 82, 64]           53,572\n",
       "│    │    └─SwinTransformerBlockV2: 3-11                [1, 41, 82, 64]           53,572\n",
       "│    │    └─SwinTransformerBlockV2: 3-12                [1, 41, 82, 64]           53,572\n",
       "│    └─PatchMergingV2: 2-6                              [1, 21, 41, 128]          --\n",
       "│    │    └─Linear: 3-13                                [1, 21, 41, 128]          32,768\n",
       "│    │    └─LayerNorm: 3-14                             [1, 21, 41, 128]          256\n",
       "│    └─Sequential: 2-7                                  [1, 21, 41, 128]          --\n",
       "│    │    └─SwinTransformerBlockV2: 3-15                [1, 21, 41, 128]          203,912\n",
       "│    │    └─SwinTransformerBlockV2: 3-16                [1, 21, 41, 128]          203,912\n",
       "│    │    └─SwinTransformerBlockV2: 3-17                [1, 21, 41, 128]          203,912\n",
       "│    └─PatchMergingV2: 2-8                              [1, 11, 21, 256]          --\n",
       "│    │    └─Linear: 3-18                                [1, 11, 21, 256]          131,072\n",
       "│    │    └─LayerNorm: 3-19                             [1, 11, 21, 256]          512\n",
       "│    └─Sequential: 2-9                                  [1, 11, 21, 256]          --\n",
       "│    │    └─SwinTransformerBlockV2: 3-20                [1, 11, 21, 256]          799,504\n",
       "│    │    └─SwinTransformerBlockV2: 3-21                [1, 11, 21, 256]          799,504\n",
       "│    │    └─SwinTransformerBlockV2: 3-22                [1, 11, 21, 256]          799,504\n",
       "├─Sequential: 1-4                                       [1, 231, 256]             --\n",
       "│    └─EncoderBlock: 2-10                               [1, 231, 256]             --\n",
       "│    │    └─LayerNorm: 3-23                             [1, 231, 256]             512\n",
       "│    │    └─MultiheadAttention: 3-24                    [1, 231, 256]             263,168\n",
       "│    │    └─Dropout: 3-25                               [1, 231, 256]             --\n",
       "│    │    └─LayerNorm: 3-26                             [1, 231, 256]             512\n",
       "│    │    └─MLPBlock: 3-27                              [1, 231, 256]             525,568\n",
       "├─ModuleList: 1-5                                       --                        --\n",
       "│    └─SwinResidualCrossAttention: 2-11                 [1, 11, 21, 256]          --\n",
       "│    │    └─LayerNorm: 3-28                             [1, 11, 21, 256]          512\n",
       "│    │    └─LayerNorm: 3-29                             [1, 11, 21, 256]          512\n",
       "│    │    └─MultiheadAttention: 3-30                    [18, 16, 256]             263,168\n",
       "│    └─Sequential: 2-12                                 [1, 11, 21, 256]          --\n",
       "│    │    └─SwinTransformerBlockV2: 3-31                [1, 11, 21, 512]          3,170,336\n",
       "│    │    └─PointwiseConvolution: 3-32                  [1, 11, 21, 256]          131,328\n",
       "│    │    └─SwinTransformerBlockV2: 3-33                [1, 11, 21, 256]          799,504\n",
       "│    │    └─SwinTransformerBlockV2: 3-34                [1, 11, 21, 256]          799,504\n",
       "│    └─PatchExpandingV2: 2-13                           [1, 22, 42, 128]          --\n",
       "│    │    └─Linear: 3-35                                [1, 11, 21, 512]          131,072\n",
       "│    │    └─LayerNorm: 3-36                             [1, 11, 21, 512]          1,024\n",
       "│    └─SwinResidualCrossAttention: 2-14                 [1, 21, 41, 128]          --\n",
       "│    │    └─LayerNorm: 3-37                             [1, 21, 41, 128]          256\n",
       "│    │    └─LayerNorm: 3-38                             [1, 21, 41, 128]          256\n",
       "│    │    └─MultiheadAttention: 3-39                    [66, 16, 128]             66,048\n",
       "│    └─Sequential: 2-15                                 [1, 21, 41, 128]          --\n",
       "│    │    └─SwinTransformerBlockV2: 3-40                [1, 21, 41, 256]          799,504\n",
       "│    │    └─PointwiseConvolution: 3-41                  [1, 21, 41, 128]          32,896\n",
       "│    │    └─SwinTransformerBlockV2: 3-42                [1, 21, 41, 128]          203,912\n",
       "│    │    └─SwinTransformerBlockV2: 3-43                [1, 21, 41, 128]          203,912\n",
       "│    └─PatchExpandingV2: 2-16                           [1, 42, 82, 64]           --\n",
       "│    │    └─Linear: 3-44                                [1, 21, 41, 256]          32,768\n",
       "│    │    └─LayerNorm: 3-45                             [1, 21, 41, 256]          512\n",
       "│    └─SwinResidualCrossAttention: 2-17                 [1, 41, 82, 64]           --\n",
       "│    │    └─LayerNorm: 3-46                             [1, 41, 82, 64]           128\n",
       "│    │    └─LayerNorm: 3-47                             [1, 41, 82, 64]           128\n",
       "│    │    └─MultiheadAttention: 3-48                    [231, 16, 64]             16,640\n",
       "│    └─Sequential: 2-18                                 [1, 41, 82, 64]           --\n",
       "│    │    └─SwinTransformerBlockV2: 3-49                [1, 41, 82, 128]          203,912\n",
       "│    │    └─PointwiseConvolution: 3-50                  [1, 41, 82, 64]           8,256\n",
       "│    │    └─SwinTransformerBlockV2: 3-51                [1, 41, 82, 64]           53,572\n",
       "│    │    └─SwinTransformerBlockV2: 3-52                [1, 41, 82, 64]           53,572\n",
       "├─Sequential: 1-6                                       [1, 64, 164, 328]         --\n",
       "│    └─Permute: 2-19                                    [1, 64, 41, 82]           --\n",
       "│    └─ConvTranspose2d: 2-20                            [1, 64, 164, 328]         65,600\n",
       "│    └─BatchNorm2d: 2-21                                [1, 64, 164, 328]         128\n",
       "├─ConvolutionTripletLayer: 1-7                          [1, 64, 164, 328]         --\n",
       "│    └─Sequential: 2-22                                 [1, 64, 164, 328]         --\n",
       "│    │    └─Conv2d: 3-53                                [1, 64, 164, 328]         73,792\n",
       "│    │    └─BatchNorm2d: 3-54                           [1, 64, 164, 328]         128\n",
       "│    │    └─LeakyReLU: 3-55                             [1, 64, 164, 328]         --\n",
       "│    │    └─Conv2d: 3-56                                [1, 64, 164, 328]         36,928\n",
       "│    │    └─BatchNorm2d: 3-57                           [1, 64, 164, 328]         128\n",
       "│    │    └─LeakyReLU: 3-58                             [1, 64, 164, 328]         --\n",
       "│    │    └─Conv2d: 3-59                                [1, 64, 164, 328]         36,928\n",
       "│    │    └─BatchNorm2d: 3-60                           [1, 64, 164, 328]         128\n",
       "│    │    └─LeakyReLU: 3-61                             [1, 64, 164, 328]         --\n",
       "├─PointwiseConvolution: 1-8                             [1, 1, 164, 328]          --\n",
       "│    └─Conv2d: 2-23                                     [1, 1, 164, 328]          65\n",
       "=========================================================================================================\n",
       "Total params: 11,454,149\n",
       "Trainable params: 11,454,149\n",
       "Non-trainable params: 0\n",
       "Total mult-adds (G): 15.77\n",
       "=========================================================================================================\n",
       "Input size (MB): 0.65\n",
       "Forward/backward pass size (MB): 564.54\n",
       "Params size (MB): 30.94\n",
       "Estimated Total Size (MB): 596.13\n",
       "========================================================================================================="
      ]
     },
     "execution_count": 5,
     "metadata": {},
     "output_type": "execute_result"
    }
   ],
   "source": [
    "patch_size = [4, 4]\n",
    "embed_dim = 64\n",
    "depths = [3, 3, 3]\n",
    "num_heads = [4, 8, 16]\n",
    "window_size = [4, 4]\n",
    "num_classes = 1\n",
    "\n",
    "\n",
    "swin = XNetSwinTransformer(patch_size, embed_dim, depths, \n",
    "                           num_heads, window_size, num_classes=num_classes,\n",
    "                           final_downsample=False, residual_cross_attention=True,\n",
    "                           )\n",
    "\n",
    "IMG_H, IMG_W = 164, 328\n",
    "x = torch.randn((5, 3, IMG_H, IMG_W))\n",
    "print(x.shape)\n",
    "\n",
    "# print(swin)\n",
    "\n",
    "y = swin(x)\n",
    "print(y.shape)\n",
    "\n",
    "# print(swin)\n",
    "\n",
    "summary(swin, input_size=[1, 3, IMG_H, IMG_W])\n"
   ]
  }
 ],
 "metadata": {
  "kernelspec": {
   "display_name": "Python 3",
   "language": "python",
   "name": "python3"
  },
  "language_info": {
   "codemirror_mode": {
    "name": "ipython",
    "version": 3
   },
   "file_extension": ".py",
   "mimetype": "text/x-python",
   "name": "python",
   "nbconvert_exporter": "python",
   "pygments_lexer": "ipython3",
   "version": "3.9.6"
  }
 },
 "nbformat": 4,
 "nbformat_minor": 2
}
